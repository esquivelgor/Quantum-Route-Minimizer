{
 "cells": [
  {
   "attachments": {},
   "cell_type": "markdown",
   "metadata": {},
   "source": [
    "## Lab 1 - **Quantum Circuits**"
   ]
  },
  {
   "cell_type": "code",
   "execution_count": 3,
   "metadata": {},
   "outputs": [],
   "source": [
    "from qiskit import *\n",
    "from qiskit.visualization import plot_histogram\n",
    "import numpy as np"
   ]
  },
  {
   "attachments": {},
   "cell_type": "markdown",
   "metadata": {},
   "source": [
    "### Part 1: Classical logic gates with quantum circuits\n",
    "\n",
    "**NOT Gate**"
   ]
  },
  {
   "cell_type": "code",
   "execution_count": 15,
   "metadata": {},
   "outputs": [],
   "source": [
    "def NOT(inp):\n",
    "    \"\"\"An NOT gate.\n",
    "    \n",
    "    Parameters:\n",
    "        inp (str): Input, encoded in qubit 0.\n",
    "        \n",
    "    Returns:\n",
    "        QuantumCircuit: Output NOT circuit.\n",
    "        str: Output value measured from qubit 0.\n",
    "    \"\"\"\n",
    "\n",
    "    qc = QuantumCircuit(1, 1) # A quantum circuit with a single qubit and a single classical bit\n",
    "    qc.reset(0)\n",
    "    \n",
    "    # We encode '0' as the qubit state |0⟩, and '1' as |1⟩\n",
    "    # Since the qubit is initially |0⟩, we don't need to do anything for an input of '0'\n",
    "    # For an input of '1', we do an x to rotate the |0⟩ to |1⟩\n",
    "    if inp=='1':\n",
    "        qc.x(0)\n",
    "        \n",
    "    # barrier between input state and gate operation \n",
    "    qc.barrier()\n",
    "    \n",
    "    # Now we've encoded the input, we can do a NOT on it using x\n",
    "    qc.x(0)\n",
    "    \n",
    "    #barrier between gate operation and measurement\n",
    "    qc.barrier()\n",
    "    \n",
    "    # Finally, we extract the |0⟩/|1⟩ output of the qubit and encode it in the bit c[0]\n",
    "    qc.measure(0,0)\n",
    "    qc.draw()\n",
    "    \n",
    "    # We'll run the program on a simulator\n",
    "    backend = Aer.get_backend('qasm_simulator')\n",
    "    # Since the output will be deterministic, we can use just a single shot to get it\n",
    "    job = backend.run(qc, shots=1, memory=True)\n",
    "    output = job.result().get_memory()[0]\n",
    "    \n",
    "    return qc, output"
   ]
  },
  {
   "cell_type": "code",
   "execution_count": 16,
   "metadata": {},
   "outputs": [
    {
     "name": "stdout",
     "output_type": "stream",
     "text": [
      "NOT with input 0 gives output 1\n"
     ]
    },
    {
     "data": {
      "text/html": [
       "<pre style=\"word-wrap: normal;white-space: pre;background: #fff0;line-height: 1.1;font-family: &quot;Courier New&quot;,Courier,monospace\">           ░ ┌───┐ ░ ┌─┐\n",
       "  q: ─|0>──░─┤ X ├─░─┤M├\n",
       "           ░ └───┘ ░ └╥┘\n",
       "c: 1/═════════════════╩═\n",
       "                      0 </pre>"
      ],
      "text/plain": [
       "           ░ ┌───┐ ░ ┌─┐\n",
       "  q: ─|0>──░─┤ X ├─░─┤M├\n",
       "           ░ └───┘ ░ └╥┘\n",
       "c: 1/═════════════════╩═\n",
       "                      0 "
      ]
     },
     "metadata": {},
     "output_type": "display_data"
    },
    {
     "name": "stdout",
     "output_type": "stream",
     "text": [
      "\n",
      "\n",
      "NOT with input 1 gives output 0\n"
     ]
    },
    {
     "data": {
      "text/html": [
       "<pre style=\"word-wrap: normal;white-space: pre;background: #fff0;line-height: 1.1;font-family: &quot;Courier New&quot;,Courier,monospace\">          ┌───┐ ░ ┌───┐ ░ ┌─┐\n",
       "  q: ─|0>─┤ X ├─░─┤ X ├─░─┤M├\n",
       "          └───┘ ░ └───┘ ░ └╥┘\n",
       "c: 1/══════════════════════╩═\n",
       "                           0 </pre>"
      ],
      "text/plain": [
       "          ┌───┐ ░ ┌───┐ ░ ┌─┐\n",
       "  q: ─|0>─┤ X ├─░─┤ X ├─░─┤M├\n",
       "          └───┘ ░ └───┘ ░ └╥┘\n",
       "c: 1/══════════════════════╩═\n",
       "                           0 "
      ]
     },
     "metadata": {},
     "output_type": "display_data"
    },
    {
     "name": "stdout",
     "output_type": "stream",
     "text": [
      "\n",
      "\n"
     ]
    }
   ],
   "source": [
    "## Test the function\n",
    "for inp in ['0', '1']:\n",
    "    qc, out = NOT(inp)\n",
    "    print('NOT with input',inp,'gives output',out)\n",
    "    display(qc.draw())\n",
    "    print('\\n')"
   ]
  },
  {
   "attachments": {},
   "cell_type": "markdown",
   "metadata": {},
   "source": [
    "**XOR Gate**"
   ]
  },
  {
   "cell_type": "code",
   "execution_count": 17,
   "metadata": {},
   "outputs": [],
   "source": [
    "def XOR(inp1,inp2):\n",
    "    \"\"\"An XOR gate.\n",
    "    \n",
    "    Parameters:\n",
    "        inpt1 (str): Input 1, encoded in qubit 0.\n",
    "        inpt2 (str): Input 2, encoded in qubit 1.\n",
    "        \n",
    "    Returns:\n",
    "        QuantumCircuit: Output XOR circuit.\n",
    "        str: Output value measured from qubit 1.\n",
    "    \"\"\"\n",
    "  \n",
    "    qc = QuantumCircuit(2, 1) \n",
    "    qc.reset(range(2))\n",
    "    \n",
    "    if inp1=='1':\n",
    "        qc.x(0)\n",
    "    if inp2=='1':\n",
    "        qc.x(1)\n",
    "    \n",
    "    # barrier between input state and gate operation \n",
    "    qc.barrier()\n",
    "    \n",
    "    # this is where your program for quantum XOR gate goes\n",
    "    \n",
    "    qc.cx(0, 1)    \n",
    "    \n",
    "    \n",
    "    # barrier between input state and gate operation \n",
    "    qc.barrier()\n",
    "    \n",
    "    qc.measure(1,0) # output from qubit 1 is measured\n",
    "  \n",
    "    #We'll run the program on a simulator\n",
    "    backend = Aer.get_backend('qasm_simulator')\n",
    "    #Since the output will be deterministic, we can use just a single shot to get it\n",
    "    job = backend.run(qc, shots=1, memory=True)\n",
    "    output = job.result().get_memory()[0]\n",
    "  \n",
    "    return qc, output"
   ]
  },
  {
   "cell_type": "code",
   "execution_count": 18,
   "metadata": {},
   "outputs": [
    {
     "name": "stdout",
     "output_type": "stream",
     "text": [
      "XOR with inputs 0 0 gives output 0\n"
     ]
    },
    {
     "data": {
      "text/html": [
       "<pre style=\"word-wrap: normal;white-space: pre;background: #fff0;line-height: 1.1;font-family: &quot;Courier New&quot;,Courier,monospace\">           ░       ░    \n",
       "q_0: ─|0>──░───■───░────\n",
       "           ░ ┌─┴─┐ ░ ┌─┐\n",
       "q_1: ─|0>──░─┤ X ├─░─┤M├\n",
       "           ░ └───┘ ░ └╥┘\n",
       "c: 1/═════════════════╩═\n",
       "                      0 </pre>"
      ],
      "text/plain": [
       "           ░       ░    \n",
       "q_0: ─|0>──░───■───░────\n",
       "           ░ ┌─┴─┐ ░ ┌─┐\n",
       "q_1: ─|0>──░─┤ X ├─░─┤M├\n",
       "           ░ └───┘ ░ └╥┘\n",
       "c: 1/═════════════════╩═\n",
       "                      0 "
      ]
     },
     "metadata": {},
     "output_type": "display_data"
    },
    {
     "name": "stdout",
     "output_type": "stream",
     "text": [
      "\n",
      "\n",
      "XOR with inputs 0 1 gives output 1\n"
     ]
    },
    {
     "data": {
      "text/html": [
       "<pre style=\"word-wrap: normal;white-space: pre;background: #fff0;line-height: 1.1;font-family: &quot;Courier New&quot;,Courier,monospace\">                ░       ░    \n",
       "q_0: ─|0>───────░───■───░────\n",
       "          ┌───┐ ░ ┌─┴─┐ ░ ┌─┐\n",
       "q_1: ─|0>─┤ X ├─░─┤ X ├─░─┤M├\n",
       "          └───┘ ░ └───┘ ░ └╥┘\n",
       "c: 1/══════════════════════╩═\n",
       "                           0 </pre>"
      ],
      "text/plain": [
       "                ░       ░    \n",
       "q_0: ─|0>───────░───■───░────\n",
       "          ┌───┐ ░ ┌─┴─┐ ░ ┌─┐\n",
       "q_1: ─|0>─┤ X ├─░─┤ X ├─░─┤M├\n",
       "          └───┘ ░ └───┘ ░ └╥┘\n",
       "c: 1/══════════════════════╩═\n",
       "                           0 "
      ]
     },
     "metadata": {},
     "output_type": "display_data"
    },
    {
     "name": "stdout",
     "output_type": "stream",
     "text": [
      "\n",
      "\n",
      "XOR with inputs 1 0 gives output 1\n"
     ]
    },
    {
     "data": {
      "text/html": [
       "<pre style=\"word-wrap: normal;white-space: pre;background: #fff0;line-height: 1.1;font-family: &quot;Courier New&quot;,Courier,monospace\">          ┌───┐ ░       ░    \n",
       "q_0: ─|0>─┤ X ├─░───■───░────\n",
       "          └───┘ ░ ┌─┴─┐ ░ ┌─┐\n",
       "q_1: ─|0>───────░─┤ X ├─░─┤M├\n",
       "                ░ └───┘ ░ └╥┘\n",
       "c: 1/══════════════════════╩═\n",
       "                           0 </pre>"
      ],
      "text/plain": [
       "          ┌───┐ ░       ░    \n",
       "q_0: ─|0>─┤ X ├─░───■───░────\n",
       "          └───┘ ░ ┌─┴─┐ ░ ┌─┐\n",
       "q_1: ─|0>───────░─┤ X ├─░─┤M├\n",
       "                ░ └───┘ ░ └╥┘\n",
       "c: 1/══════════════════════╩═\n",
       "                           0 "
      ]
     },
     "metadata": {},
     "output_type": "display_data"
    },
    {
     "name": "stdout",
     "output_type": "stream",
     "text": [
      "\n",
      "\n",
      "XOR with inputs 1 1 gives output 0\n"
     ]
    },
    {
     "data": {
      "text/html": [
       "<pre style=\"word-wrap: normal;white-space: pre;background: #fff0;line-height: 1.1;font-family: &quot;Courier New&quot;,Courier,monospace\">          ┌───┐ ░       ░    \n",
       "q_0: ─|0>─┤ X ├─░───■───░────\n",
       "          ├───┤ ░ ┌─┴─┐ ░ ┌─┐\n",
       "q_1: ─|0>─┤ X ├─░─┤ X ├─░─┤M├\n",
       "          └───┘ ░ └───┘ ░ └╥┘\n",
       "c: 1/══════════════════════╩═\n",
       "                           0 </pre>"
      ],
      "text/plain": [
       "          ┌───┐ ░       ░    \n",
       "q_0: ─|0>─┤ X ├─░───■───░────\n",
       "          ├───┤ ░ ┌─┴─┐ ░ ┌─┐\n",
       "q_1: ─|0>─┤ X ├─░─┤ X ├─░─┤M├\n",
       "          └───┘ ░ └───┘ ░ └╥┘\n",
       "c: 1/══════════════════════╩═\n",
       "                           0 "
      ]
     },
     "metadata": {},
     "output_type": "display_data"
    },
    {
     "name": "stdout",
     "output_type": "stream",
     "text": [
      "\n",
      "\n"
     ]
    }
   ],
   "source": [
    "## Test the function\n",
    "for inp1 in ['0', '1']:\n",
    "    for inp2 in ['0', '1']:\n",
    "        qc, output = XOR(inp1, inp2)\n",
    "        print('XOR with inputs',inp1,inp2,'gives output',output)\n",
    "        display(qc.draw())\n",
    "        print('\\n')"
   ]
  },
  {
   "attachments": {},
   "cell_type": "markdown",
   "metadata": {},
   "source": [
    "**AND Gate**"
   ]
  },
  {
   "cell_type": "code",
   "execution_count": 39,
   "metadata": {},
   "outputs": [],
   "source": [
    "def AND(inp1,inp2):\n",
    "    \"\"\"An AND gate.\n",
    "    \n",
    "    Parameters:\n",
    "        inpt1 (str): Input 1, encoded in qubit 0.\n",
    "        inpt2 (str): Input 2, encoded in qubit 1.\n",
    "        \n",
    "    Returns:\n",
    "        QuantumCircuit: Output XOR circuit.\n",
    "        str: Output value measured from qubit 2.\n",
    "    \"\"\"\n",
    "    qc = QuantumCircuit(3, 1) \n",
    "    qc.reset(range(2))\n",
    "  \n",
    "    if inp1=='1':\n",
    "        qc.x(0)\n",
    "    if inp2=='1':\n",
    "        qc.x(1)\n",
    "        \n",
    "    qc.barrier()\n",
    "\n",
    "    # this is where your program for quantum AND gate goes\n",
    "\n",
    "    \n",
    "    qc.ccx(0,1,2)\n",
    "    \n",
    "\n",
    "    qc.barrier()\n",
    "    qc.measure(2, 0) # output from qubit 2 is measured\n",
    "  \n",
    "    # We'll run the program on a simulator\n",
    "    backend = Aer.get_backend('qasm_simulator')\n",
    "    # Since the output will be deterministic, we can use just a single shot to get it\n",
    "    job = backend.run(qc, shots=1, memory=True)\n",
    "    output = job.result().get_memory()[0]\n",
    "  \n",
    "    return qc, output"
   ]
  },
  {
   "cell_type": "code",
   "execution_count": 40,
   "metadata": {},
   "outputs": [
    {
     "name": "stdout",
     "output_type": "stream",
     "text": [
      "AND with inputs 0 0 gives output 0\n"
     ]
    },
    {
     "data": {
      "text/html": [
       "<pre style=\"word-wrap: normal;white-space: pre;background: #fff0;line-height: 1.1;font-family: &quot;Courier New&quot;,Courier,monospace\">           ░       ░    \n",
       "q_0: ─|0>──░───■───░────\n",
       "           ░   │   ░    \n",
       "q_1: ─|0>──░───■───░────\n",
       "           ░ ┌─┴─┐ ░ ┌─┐\n",
       "q_2: ──────░─┤ X ├─░─┤M├\n",
       "           ░ └───┘ ░ └╥┘\n",
       "c: 1/═════════════════╩═\n",
       "                      0 </pre>"
      ],
      "text/plain": [
       "           ░       ░    \n",
       "q_0: ─|0>──░───■───░────\n",
       "           ░   │   ░    \n",
       "q_1: ─|0>──░───■───░────\n",
       "           ░ ┌─┴─┐ ░ ┌─┐\n",
       "q_2: ──────░─┤ X ├─░─┤M├\n",
       "           ░ └───┘ ░ └╥┘\n",
       "c: 1/═════════════════╩═\n",
       "                      0 "
      ]
     },
     "metadata": {},
     "output_type": "display_data"
    },
    {
     "name": "stdout",
     "output_type": "stream",
     "text": [
      "\n",
      "\n",
      "AND with inputs 0 1 gives output 0\n"
     ]
    },
    {
     "data": {
      "text/html": [
       "<pre style=\"word-wrap: normal;white-space: pre;background: #fff0;line-height: 1.1;font-family: &quot;Courier New&quot;,Courier,monospace\">                ░       ░    \n",
       "q_0: ─|0>───────░───■───░────\n",
       "          ┌───┐ ░   │   ░    \n",
       "q_1: ─|0>─┤ X ├─░───■───░────\n",
       "          └───┘ ░ ┌─┴─┐ ░ ┌─┐\n",
       "q_2: ───────────░─┤ X ├─░─┤M├\n",
       "                ░ └───┘ ░ └╥┘\n",
       "c: 1/══════════════════════╩═\n",
       "                           0 </pre>"
      ],
      "text/plain": [
       "                ░       ░    \n",
       "q_0: ─|0>───────░───■───░────\n",
       "          ┌───┐ ░   │   ░    \n",
       "q_1: ─|0>─┤ X ├─░───■───░────\n",
       "          └───┘ ░ ┌─┴─┐ ░ ┌─┐\n",
       "q_2: ───────────░─┤ X ├─░─┤M├\n",
       "                ░ └───┘ ░ └╥┘\n",
       "c: 1/══════════════════════╩═\n",
       "                           0 "
      ]
     },
     "metadata": {},
     "output_type": "display_data"
    },
    {
     "name": "stdout",
     "output_type": "stream",
     "text": [
      "\n",
      "\n",
      "AND with inputs 1 0 gives output 0\n"
     ]
    },
    {
     "data": {
      "text/html": [
       "<pre style=\"word-wrap: normal;white-space: pre;background: #fff0;line-height: 1.1;font-family: &quot;Courier New&quot;,Courier,monospace\">          ┌───┐ ░       ░    \n",
       "q_0: ─|0>─┤ X ├─░───■───░────\n",
       "          └───┘ ░   │   ░    \n",
       "q_1: ─|0>───────░───■───░────\n",
       "                ░ ┌─┴─┐ ░ ┌─┐\n",
       "q_2: ───────────░─┤ X ├─░─┤M├\n",
       "                ░ └───┘ ░ └╥┘\n",
       "c: 1/══════════════════════╩═\n",
       "                           0 </pre>"
      ],
      "text/plain": [
       "          ┌───┐ ░       ░    \n",
       "q_0: ─|0>─┤ X ├─░───■───░────\n",
       "          └───┘ ░   │   ░    \n",
       "q_1: ─|0>───────░───■───░────\n",
       "                ░ ┌─┴─┐ ░ ┌─┐\n",
       "q_2: ───────────░─┤ X ├─░─┤M├\n",
       "                ░ └───┘ ░ └╥┘\n",
       "c: 1/══════════════════════╩═\n",
       "                           0 "
      ]
     },
     "metadata": {},
     "output_type": "display_data"
    },
    {
     "name": "stdout",
     "output_type": "stream",
     "text": [
      "\n",
      "\n",
      "AND with inputs 1 1 gives output 1\n"
     ]
    },
    {
     "data": {
      "text/html": [
       "<pre style=\"word-wrap: normal;white-space: pre;background: #fff0;line-height: 1.1;font-family: &quot;Courier New&quot;,Courier,monospace\">          ┌───┐ ░       ░    \n",
       "q_0: ─|0>─┤ X ├─░───■───░────\n",
       "          ├───┤ ░   │   ░    \n",
       "q_1: ─|0>─┤ X ├─░───■───░────\n",
       "          └───┘ ░ ┌─┴─┐ ░ ┌─┐\n",
       "q_2: ───────────░─┤ X ├─░─┤M├\n",
       "                ░ └───┘ ░ └╥┘\n",
       "c: 1/══════════════════════╩═\n",
       "                           0 </pre>"
      ],
      "text/plain": [
       "          ┌───┐ ░       ░    \n",
       "q_0: ─|0>─┤ X ├─░───■───░────\n",
       "          ├───┤ ░   │   ░    \n",
       "q_1: ─|0>─┤ X ├─░───■───░────\n",
       "          └───┘ ░ ┌─┴─┐ ░ ┌─┐\n",
       "q_2: ───────────░─┤ X ├─░─┤M├\n",
       "                ░ └───┘ ░ └╥┘\n",
       "c: 1/══════════════════════╩═\n",
       "                           0 "
      ]
     },
     "metadata": {},
     "output_type": "display_data"
    },
    {
     "name": "stdout",
     "output_type": "stream",
     "text": [
      "\n",
      "\n"
     ]
    }
   ],
   "source": [
    "## Test the function\n",
    "for inp1 in ['0', '1']:\n",
    "    for inp2 in ['0', '1']:\n",
    "        qc, output = AND(inp1, inp2)\n",
    "        print('AND with inputs',inp1,inp2,'gives output',output)\n",
    "        display(qc.draw())\n",
    "        print('\\n')"
   ]
  },
  {
   "attachments": {},
   "cell_type": "markdown",
   "metadata": {},
   "source": [
    "**NAND Gate**"
   ]
  },
  {
   "cell_type": "code",
   "execution_count": 47,
   "metadata": {},
   "outputs": [],
   "source": [
    "def NAND(inp1,inp2):\n",
    "    \"\"\"An NAND gate.\n",
    "    \n",
    "    Parameters:\n",
    "        inpt1 (str): Input 1, encoded in qubit 0.\n",
    "        inpt2 (str): Input 2, encoded in qubit 1.\n",
    "        \n",
    "    Returns:\n",
    "        QuantumCircuit: Output NAND circuit.\n",
    "        str: Output value measured from qubit 2.\n",
    "    \"\"\"\n",
    "    qc = QuantumCircuit(3, 1) \n",
    "    qc.reset(range(3))\n",
    "    \n",
    "    if inp1=='1':\n",
    "        qc.x(0)\n",
    "    if inp2=='1':\n",
    "        qc.x(1)\n",
    "    \n",
    "    qc.barrier()\n",
    "    \n",
    "    # this is where your program for quantum NAND gate goes\n",
    "\n",
    "\n",
    "    qc.ccx(0,1,2)\n",
    "    \n",
    "    if inp=='1':\n",
    "        qc.x(2)\n",
    "    \n",
    "    qc.barrier()\n",
    "    qc.measure(2, 0) # output from qubit 2 is measured\n",
    "  \n",
    "    # We'll run the program on a simulator\n",
    "    backend = Aer.get_backend('aer_simulator')\n",
    "    # Since the output will be deterministic, we can use just a single shot to get it\n",
    "    job = backend.run(qc,shots=1,memory=True)\n",
    "    output = job.result().get_memory()[0]\n",
    "  \n",
    "    return qc, output"
   ]
  },
  {
   "cell_type": "code",
   "execution_count": 48,
   "metadata": {},
   "outputs": [
    {
     "name": "stdout",
     "output_type": "stream",
     "text": [
      "NAND with inputs 0 0 gives output 1\n"
     ]
    },
    {
     "data": {
      "text/html": [
       "<pre style=\"word-wrap: normal;white-space: pre;background: #fff0;line-height: 1.1;font-family: &quot;Courier New&quot;,Courier,monospace\">           ░            ░    \n",
       "q_0: ─|0>──░───■────────░────\n",
       "           ░   │        ░    \n",
       "q_1: ─|0>──░───■────────░────\n",
       "           ░ ┌─┴─┐┌───┐ ░ ┌─┐\n",
       "q_2: ─|0>──░─┤ X ├┤ X ├─░─┤M├\n",
       "           ░ └───┘└───┘ ░ └╥┘\n",
       "c: 1/══════════════════════╩═\n",
       "                           0 </pre>"
      ],
      "text/plain": [
       "           ░            ░    \n",
       "q_0: ─|0>──░───■────────░────\n",
       "           ░   │        ░    \n",
       "q_1: ─|0>──░───■────────░────\n",
       "           ░ ┌─┴─┐┌───┐ ░ ┌─┐\n",
       "q_2: ─|0>──░─┤ X ├┤ X ├─░─┤M├\n",
       "           ░ └───┘└───┘ ░ └╥┘\n",
       "c: 1/══════════════════════╩═\n",
       "                           0 "
      ]
     },
     "metadata": {},
     "output_type": "display_data"
    },
    {
     "name": "stdout",
     "output_type": "stream",
     "text": [
      "\n",
      "\n",
      "NAND with inputs 0 1 gives output 1\n"
     ]
    },
    {
     "data": {
      "text/html": [
       "<pre style=\"word-wrap: normal;white-space: pre;background: #fff0;line-height: 1.1;font-family: &quot;Courier New&quot;,Courier,monospace\">                ░            ░    \n",
       "q_0: ─|0>───────░───■────────░────\n",
       "          ┌───┐ ░   │        ░    \n",
       "q_1: ─|0>─┤ X ├─░───■────────░────\n",
       "          └───┘ ░ ┌─┴─┐┌───┐ ░ ┌─┐\n",
       "q_2: ─|0>───────░─┤ X ├┤ X ├─░─┤M├\n",
       "                ░ └───┘└───┘ ░ └╥┘\n",
       "c: 1/═══════════════════════════╩═\n",
       "                                0 </pre>"
      ],
      "text/plain": [
       "                ░            ░    \n",
       "q_0: ─|0>───────░───■────────░────\n",
       "          ┌───┐ ░   │        ░    \n",
       "q_1: ─|0>─┤ X ├─░───■────────░────\n",
       "          └───┘ ░ ┌─┴─┐┌───┐ ░ ┌─┐\n",
       "q_2: ─|0>───────░─┤ X ├┤ X ├─░─┤M├\n",
       "                ░ └───┘└───┘ ░ └╥┘\n",
       "c: 1/═══════════════════════════╩═\n",
       "                                0 "
      ]
     },
     "metadata": {},
     "output_type": "display_data"
    },
    {
     "name": "stdout",
     "output_type": "stream",
     "text": [
      "\n",
      "\n",
      "NAND with inputs 1 0 gives output 1\n"
     ]
    },
    {
     "data": {
      "text/html": [
       "<pre style=\"word-wrap: normal;white-space: pre;background: #fff0;line-height: 1.1;font-family: &quot;Courier New&quot;,Courier,monospace\">          ┌───┐ ░            ░    \n",
       "q_0: ─|0>─┤ X ├─░───■────────░────\n",
       "          └───┘ ░   │        ░    \n",
       "q_1: ─|0>───────░───■────────░────\n",
       "                ░ ┌─┴─┐┌───┐ ░ ┌─┐\n",
       "q_2: ─|0>───────░─┤ X ├┤ X ├─░─┤M├\n",
       "                ░ └───┘└───┘ ░ └╥┘\n",
       "c: 1/═══════════════════════════╩═\n",
       "                                0 </pre>"
      ],
      "text/plain": [
       "          ┌───┐ ░            ░    \n",
       "q_0: ─|0>─┤ X ├─░───■────────░────\n",
       "          └───┘ ░   │        ░    \n",
       "q_1: ─|0>───────░───■────────░────\n",
       "                ░ ┌─┴─┐┌───┐ ░ ┌─┐\n",
       "q_2: ─|0>───────░─┤ X ├┤ X ├─░─┤M├\n",
       "                ░ └───┘└───┘ ░ └╥┘\n",
       "c: 1/═══════════════════════════╩═\n",
       "                                0 "
      ]
     },
     "metadata": {},
     "output_type": "display_data"
    },
    {
     "name": "stdout",
     "output_type": "stream",
     "text": [
      "\n",
      "\n",
      "NAND with inputs 1 1 gives output 0\n"
     ]
    },
    {
     "data": {
      "text/html": [
       "<pre style=\"word-wrap: normal;white-space: pre;background: #fff0;line-height: 1.1;font-family: &quot;Courier New&quot;,Courier,monospace\">          ┌───┐ ░            ░    \n",
       "q_0: ─|0>─┤ X ├─░───■────────░────\n",
       "          ├───┤ ░   │        ░    \n",
       "q_1: ─|0>─┤ X ├─░───■────────░────\n",
       "          └───┘ ░ ┌─┴─┐┌───┐ ░ ┌─┐\n",
       "q_2: ─|0>───────░─┤ X ├┤ X ├─░─┤M├\n",
       "                ░ └───┘└───┘ ░ └╥┘\n",
       "c: 1/═══════════════════════════╩═\n",
       "                                0 </pre>"
      ],
      "text/plain": [
       "          ┌───┐ ░            ░    \n",
       "q_0: ─|0>─┤ X ├─░───■────────░────\n",
       "          ├───┤ ░   │        ░    \n",
       "q_1: ─|0>─┤ X ├─░───■────────░────\n",
       "          └───┘ ░ ┌─┴─┐┌───┐ ░ ┌─┐\n",
       "q_2: ─|0>───────░─┤ X ├┤ X ├─░─┤M├\n",
       "                ░ └───┘└───┘ ░ └╥┘\n",
       "c: 1/═══════════════════════════╩═\n",
       "                                0 "
      ]
     },
     "metadata": {},
     "output_type": "display_data"
    },
    {
     "name": "stdout",
     "output_type": "stream",
     "text": [
      "\n",
      "\n"
     ]
    }
   ],
   "source": [
    "## Test the function\n",
    "for inp1 in ['0', '1']:\n",
    "    for inp2 in ['0', '1']:\n",
    "        qc, output = NAND(inp1, inp2)\n",
    "        print('NAND with inputs',inp1,inp2,'gives output',output)\n",
    "        display(qc.draw())\n",
    "        print('\\n')"
   ]
  },
  {
   "attachments": {},
   "cell_type": "markdown",
   "metadata": {},
   "source": [
    "**OR GATE**"
   ]
  },
  {
   "cell_type": "code",
   "execution_count": 18,
   "metadata": {},
   "outputs": [],
   "source": [
    "def OR(inp1,inp2):\n",
    "    \"\"\"An OR gate.\n",
    "    \n",
    "    Parameters:\n",
    "        inpt1 (str): Input 1, encoded in qubit 0.\n",
    "        inpt2 (str): Input 2, encoded in qubit 1.\n",
    "        \n",
    "    Returns:\n",
    "        QuantumCircuit: Output XOR circuit.\n",
    "        str: Output value measured from qubit 2.\n",
    "    \"\"\"\n",
    "\n",
    "    qc = QuantumCircuit(3, 1) \n",
    "    qc.reset(range(3))\n",
    "    \n",
    "    if inp1=='1':\n",
    "        qc.x(0)\n",
    "    if inp2=='1':\n",
    "        qc.x(1)\n",
    "    \n",
    "    qc.barrier()\n",
    "   \n",
    "    # this is where your program for quantum OR gate goes\n",
    "\n",
    "    qc.cx(0, 2)\n",
    "    qc.cx(1, 2)\n",
    "    \n",
    "    qc.barrier()\n",
    "    qc.measure(2, 0) # output from qubit 2 is measured\n",
    "  \n",
    "    # We'll run the program on a simulator\n",
    "    backend = Aer.get_backend('aer_simulator')\n",
    "    # Since the output will be deterministic, we can use just a single shot to get it\n",
    "    job = backend.run(qc,shots=1,memory=True)\n",
    "    output = job.result().get_memory()[0]\n",
    "  \n",
    "    return qc, output"
   ]
  },
  {
   "cell_type": "code",
   "execution_count": 19,
   "metadata": {},
   "outputs": [
    {
     "name": "stdout",
     "output_type": "stream",
     "text": [
      "OR with inputs 0 0 gives output 0\n"
     ]
    },
    {
     "data": {
      "text/html": [
       "<pre style=\"word-wrap: normal;white-space: pre;background: #fff0;line-height: 1.1;font-family: &quot;Courier New&quot;,Courier,monospace\">           ░            ░    \n",
       "q_0: ─|0>──░───■────────░────\n",
       "           ░   │        ░    \n",
       "q_1: ─|0>──░───┼────■───░────\n",
       "           ░ ┌─┴─┐┌─┴─┐ ░ ┌─┐\n",
       "q_2: ─|0>──░─┤ X ├┤ X ├─░─┤M├\n",
       "           ░ └───┘└───┘ ░ └╥┘\n",
       "c: 1/══════════════════════╩═\n",
       "                           0 </pre>"
      ],
      "text/plain": [
       "           ░            ░    \n",
       "q_0: ─|0>──░───■────────░────\n",
       "           ░   │        ░    \n",
       "q_1: ─|0>──░───┼────■───░────\n",
       "           ░ ┌─┴─┐┌─┴─┐ ░ ┌─┐\n",
       "q_2: ─|0>──░─┤ X ├┤ X ├─░─┤M├\n",
       "           ░ └───┘└───┘ ░ └╥┘\n",
       "c: 1/══════════════════════╩═\n",
       "                           0 "
      ]
     },
     "metadata": {},
     "output_type": "display_data"
    },
    {
     "name": "stdout",
     "output_type": "stream",
     "text": [
      "\n",
      "\n",
      "OR with inputs 0 1 gives output 1\n"
     ]
    },
    {
     "data": {
      "text/html": [
       "<pre style=\"word-wrap: normal;white-space: pre;background: #fff0;line-height: 1.1;font-family: &quot;Courier New&quot;,Courier,monospace\">                ░            ░    \n",
       "q_0: ─|0>───────░───■────────░────\n",
       "          ┌───┐ ░   │        ░    \n",
       "q_1: ─|0>─┤ X ├─░───┼────■───░────\n",
       "          └───┘ ░ ┌─┴─┐┌─┴─┐ ░ ┌─┐\n",
       "q_2: ─|0>───────░─┤ X ├┤ X ├─░─┤M├\n",
       "                ░ └───┘└───┘ ░ └╥┘\n",
       "c: 1/═══════════════════════════╩═\n",
       "                                0 </pre>"
      ],
      "text/plain": [
       "                ░            ░    \n",
       "q_0: ─|0>───────░───■────────░────\n",
       "          ┌───┐ ░   │        ░    \n",
       "q_1: ─|0>─┤ X ├─░───┼────■───░────\n",
       "          └───┘ ░ ┌─┴─┐┌─┴─┐ ░ ┌─┐\n",
       "q_2: ─|0>───────░─┤ X ├┤ X ├─░─┤M├\n",
       "                ░ └───┘└───┘ ░ └╥┘\n",
       "c: 1/═══════════════════════════╩═\n",
       "                                0 "
      ]
     },
     "metadata": {},
     "output_type": "display_data"
    },
    {
     "name": "stdout",
     "output_type": "stream",
     "text": [
      "\n",
      "\n",
      "OR with inputs 1 0 gives output 1\n"
     ]
    },
    {
     "data": {
      "text/html": [
       "<pre style=\"word-wrap: normal;white-space: pre;background: #fff0;line-height: 1.1;font-family: &quot;Courier New&quot;,Courier,monospace\">          ┌───┐ ░            ░    \n",
       "q_0: ─|0>─┤ X ├─░───■────────░────\n",
       "          └───┘ ░   │        ░    \n",
       "q_1: ─|0>───────░───┼────■───░────\n",
       "                ░ ┌─┴─┐┌─┴─┐ ░ ┌─┐\n",
       "q_2: ─|0>───────░─┤ X ├┤ X ├─░─┤M├\n",
       "                ░ └───┘└───┘ ░ └╥┘\n",
       "c: 1/═══════════════════════════╩═\n",
       "                                0 </pre>"
      ],
      "text/plain": [
       "          ┌───┐ ░            ░    \n",
       "q_0: ─|0>─┤ X ├─░───■────────░────\n",
       "          └───┘ ░   │        ░    \n",
       "q_1: ─|0>───────░───┼────■───░────\n",
       "                ░ ┌─┴─┐┌─┴─┐ ░ ┌─┐\n",
       "q_2: ─|0>───────░─┤ X ├┤ X ├─░─┤M├\n",
       "                ░ └───┘└───┘ ░ └╥┘\n",
       "c: 1/═══════════════════════════╩═\n",
       "                                0 "
      ]
     },
     "metadata": {},
     "output_type": "display_data"
    },
    {
     "name": "stdout",
     "output_type": "stream",
     "text": [
      "\n",
      "\n",
      "OR with inputs 1 1 gives output 0\n"
     ]
    },
    {
     "data": {
      "text/html": [
       "<pre style=\"word-wrap: normal;white-space: pre;background: #fff0;line-height: 1.1;font-family: &quot;Courier New&quot;,Courier,monospace\">          ┌───┐ ░            ░    \n",
       "q_0: ─|0>─┤ X ├─░───■────────░────\n",
       "          ├───┤ ░   │        ░    \n",
       "q_1: ─|0>─┤ X ├─░───┼────■───░────\n",
       "          └───┘ ░ ┌─┴─┐┌─┴─┐ ░ ┌─┐\n",
       "q_2: ─|0>───────░─┤ X ├┤ X ├─░─┤M├\n",
       "                ░ └───┘└───┘ ░ └╥┘\n",
       "c: 1/═══════════════════════════╩═\n",
       "                                0 </pre>"
      ],
      "text/plain": [
       "          ┌───┐ ░            ░    \n",
       "q_0: ─|0>─┤ X ├─░───■────────░────\n",
       "          ├───┤ ░   │        ░    \n",
       "q_1: ─|0>─┤ X ├─░───┼────■───░────\n",
       "          └───┘ ░ ┌─┴─┐┌─┴─┐ ░ ┌─┐\n",
       "q_2: ─|0>───────░─┤ X ├┤ X ├─░─┤M├\n",
       "                ░ └───┘└───┘ ░ └╥┘\n",
       "c: 1/═══════════════════════════╩═\n",
       "                                0 "
      ]
     },
     "metadata": {},
     "output_type": "display_data"
    },
    {
     "name": "stdout",
     "output_type": "stream",
     "text": [
      "\n",
      "\n"
     ]
    }
   ],
   "source": [
    "## Test the function\n",
    "for inp1 in ['0', '1']:\n",
    "    for inp2 in ['0', '1']:\n",
    "        qc, output = OR(inp1, inp2)\n",
    "        print('OR with inputs',inp1,inp2,'gives output',output)\n",
    "        display(qc.draw())\n",
    "        print('\\n')"
   ]
  },
  {
   "cell_type": "code",
   "execution_count": 31,
   "metadata": {},
   "outputs": [
    {
     "data": {
      "text/plain": [
       "[<AccountProvider for IBMQ(hub='ibm-q', group='open', project='main')>]"
      ]
     },
     "execution_count": 31,
     "metadata": {},
     "output_type": "execute_result"
    }
   ],
   "source": [
    "from qiskit import IBMQ\n",
    "\n",
    "IBMQ.save_account(\"a68a35747d4eccd1d58f275e637909987c789ce5c0edd8a4f43014672bf0301b54b28b1b5f44ba8ff87500777429e1e4ceb79621a6ba248d6cca6bca0e233d23\", overwrite=True)\n",
    "IBMQ.load_account()\n",
    "IBMQ.providers()"
   ]
  },
  {
   "cell_type": "code",
   "execution_count": 32,
   "metadata": {},
   "outputs": [
    {
     "data": {
      "text/plain": [
       "[<IBMQSimulator('ibmq_qasm_simulator') from IBMQ(hub='ibm-q', group='open', project='main')>,\n",
       " <IBMQBackend('ibmq_lima') from IBMQ(hub='ibm-q', group='open', project='main')>,\n",
       " <IBMQBackend('ibmq_belem') from IBMQ(hub='ibm-q', group='open', project='main')>,\n",
       " <IBMQBackend('ibmq_quito') from IBMQ(hub='ibm-q', group='open', project='main')>,\n",
       " <IBMQSimulator('simulator_statevector') from IBMQ(hub='ibm-q', group='open', project='main')>,\n",
       " <IBMQSimulator('simulator_mps') from IBMQ(hub='ibm-q', group='open', project='main')>,\n",
       " <IBMQSimulator('simulator_extended_stabilizer') from IBMQ(hub='ibm-q', group='open', project='main')>,\n",
       " <IBMQSimulator('simulator_stabilizer') from IBMQ(hub='ibm-q', group='open', project='main')>,\n",
       " <IBMQBackend('ibmq_jakarta') from IBMQ(hub='ibm-q', group='open', project='main')>,\n",
       " <IBMQBackend('ibmq_manila') from IBMQ(hub='ibm-q', group='open', project='main')>,\n",
       " <IBMQBackend('ibm_lagos') from IBMQ(hub='ibm-q', group='open', project='main')>,\n",
       " <IBMQBackend('ibm_nairobi') from IBMQ(hub='ibm-q', group='open', project='main')>,\n",
       " <IBMQBackend('ibm_perth') from IBMQ(hub='ibm-q', group='open', project='main')>]"
      ]
     },
     "execution_count": 32,
     "metadata": {},
     "output_type": "execute_result"
    }
   ],
   "source": [
    "provider = IBMQ.get_provider('ibm-q')\n",
    "provider.backends()"
   ]
  }
 ],
 "metadata": {
  "kernelspec": {
   "display_name": "venv",
   "language": "python",
   "name": "python3"
  },
  "language_info": {
   "codemirror_mode": {
    "name": "ipython",
    "version": 3
   },
   "file_extension": ".py",
   "mimetype": "text/x-python",
   "name": "python",
   "nbconvert_exporter": "python",
   "pygments_lexer": "ipython3",
   "version": "3.11.5"
  },
  "orig_nbformat": 4
 },
 "nbformat": 4,
 "nbformat_minor": 2
}
