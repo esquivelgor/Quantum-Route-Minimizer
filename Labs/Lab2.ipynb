{
 "cells": [
  {
   "attachments": {},
   "cell_type": "markdown",
   "metadata": {},
   "source": [
    "# Lab 2 Single Qubit Gates\n"
   ]
  },
  {
   "cell_type": "code",
   "execution_count": 1,
   "metadata": {},
   "outputs": [],
   "source": [
    "import numpy as np\n",
    "\n",
    "# Importing standard Qiskit libraries\n",
    "from qiskit import QuantumCircuit, transpile, Aer, execute\n",
    "from qiskit.tools.jupyter import *\n",
    "from qiskit.visualization import *\n",
    "from qiskit.providers.aer import QasmSimulator\n",
    "\n",
    "backend = Aer.get_backend('statevector_simulator')"
   ]
  },
  {
   "attachments": {},
   "cell_type": "markdown",
   "metadata": {},
   "source": [
    "## Part 1 - Effect of Single-Qubit Gates on state |0>\n"
   ]
  },
  {
   "cell_type": "code",
   "execution_count": null,
   "metadata": {},
   "outputs": [],
   "source": [
    "qc1 = QuantumCircuit(4)\n",
    "\n",
    "# perform gate operations on individual qubits\n",
    "qc1.x(0)\n",
    "qc1.y(1)\n",
    "qc1.z(2)\n",
    "qc1.s(3)\n",
    "\n",
    "# Draw circuit\n",
    "qc1.draw()"
   ]
  },
  {
   "cell_type": "code",
   "execution_count": null,
   "metadata": {},
   "outputs": [],
   "source": [
    "# Plot blochshere\n",
    "out1 = execute(qc1,backend).result().get_statevector()\n",
    "plot_bloch_multivector(out1)"
   ]
  },
  {
   "attachments": {},
   "cell_type": "markdown",
   "metadata": {},
   "source": [
    "## Part 2 - Effect of Single-Qubit Gates on state |1>\n"
   ]
  },
  {
   "cell_type": "code",
   "execution_count": null,
   "metadata": {},
   "outputs": [],
   "source": [
    "qc2 = QuantumCircuit(4)\n",
    "\n",
    "# initialize qubits\n",
    "qc2.x(range(4))\n",
    "\n",
    "# perform gate operations on individual qubits\n",
    "qc2.x(0)\n",
    "qc2.y(1)\n",
    "qc2.z(2)\n",
    "qc2.s(3)\n",
    "\n",
    "# Draw circuit\n",
    "qc2.draw()"
   ]
  },
  {
   "cell_type": "code",
   "execution_count": null,
   "metadata": {},
   "outputs": [],
   "source": [
    "# Plot blochshere\n",
    "out2 = execute(qc2,backend).result().get_statevector()\n",
    "plot_bloch_multivector(out2)"
   ]
  },
  {
   "attachments": {},
   "cell_type": "markdown",
   "metadata": {},
   "source": [
    "## Part 3 - Effect of Single-Qubit Gates on state |+>"
   ]
  },
  {
   "cell_type": "code",
   "execution_count": null,
   "metadata": {},
   "outputs": [],
   "source": [
    "qc3 = QuantumCircuit(4)\n",
    "\n",
    "# initialize qubits\n",
    "qc3.h(range(4))\n",
    "\n",
    "# perform gate operations on individual qubits\n",
    "qc3.x(0)\n",
    "qc3.y(1)\n",
    "qc3.z(2)\n",
    "qc3.s(3)\n",
    "\n",
    "# Draw circuit\n",
    "qc3.draw()"
   ]
  },
  {
   "cell_type": "code",
   "execution_count": null,
   "metadata": {},
   "outputs": [],
   "source": [
    "# Plot blochshere\n",
    "out3 = execute(qc3,backend).result().get_statevector()\n",
    "plot_bloch_multivector(out3)"
   ]
  },
  {
   "attachments": {},
   "cell_type": "markdown",
   "metadata": {},
   "source": [
    "## Part 4 - Effect of Single-Qubit Gates on state |->"
   ]
  },
  {
   "cell_type": "code",
   "execution_count": null,
   "metadata": {},
   "outputs": [],
   "source": [
    "qc4 = QuantumCircuit(4)\n",
    "\n",
    "# initialize qubits\n",
    "qc4.x(range(4))\n",
    "qc4.h(range(4))\n",
    "\n",
    "# perform gate operations on individual qubits\n",
    "qc4.x(0)\n",
    "qc4.y(1)\n",
    "qc4.z(2)\n",
    "qc4.s(3)\n",
    "\n",
    "# Draw circuit\n",
    "qc4.draw()"
   ]
  },
  {
   "cell_type": "code",
   "execution_count": null,
   "metadata": {},
   "outputs": [],
   "source": [
    "# Plot blochshere\n",
    "out4 = execute(qc4,backend).result().get_statevector()\n",
    "plot_bloch_multivector(out4)"
   ]
  },
  {
   "attachments": {},
   "cell_type": "markdown",
   "metadata": {},
   "source": [
    "## Part 5 - Effect of Single-Qubit Gates on state |i>\n"
   ]
  },
  {
   "cell_type": "code",
   "execution_count": null,
   "metadata": {},
   "outputs": [],
   "source": [
    "qc5 = QuantumCircuit(4)\n",
    "\n",
    "# initialize qubits\n",
    "qc5.h(range(4))\n",
    "qc5.s(range(4))\n",
    "\n",
    "# perform gate operations on individual qubits\n",
    "qc5.x(0)\n",
    "qc5.y(1)\n",
    "qc5.z(2)\n",
    "qc5.s(3)\n",
    "\n",
    "# Draw circuit\n",
    "qc5.draw()"
   ]
  },
  {
   "cell_type": "code",
   "execution_count": null,
   "metadata": {},
   "outputs": [],
   "source": [
    "# Plot blochshere\n",
    "out5 = execute(qc5,backend).result().get_statevector()\n",
    "plot_bloch_multivector(out5)"
   ]
  },
  {
   "attachments": {},
   "cell_type": "markdown",
   "metadata": {},
   "source": [
    "## Part 6 - Effect of Single-Qubit Gates on state |-i>"
   ]
  },
  {
   "cell_type": "code",
   "execution_count": null,
   "metadata": {},
   "outputs": [],
   "source": [
    "qc6 = QuantumCircuit(4)\n",
    "\n",
    "# initialize qubits\n",
    "qc6.x(range(4))\n",
    "qc6.h(range(4))\n",
    "qc6.s(range(4))\n",
    "\n",
    "# perform gate operations on individual qubits\n",
    "qc6.x(0)\n",
    "qc6.y(1)\n",
    "qc6.z(2)\n",
    "qc6.s(3)\n",
    "\n",
    "# Draw circuit\n",
    "qc6.draw()\n",
    "\n"
   ]
  },
  {
   "cell_type": "code",
   "execution_count": null,
   "metadata": {},
   "outputs": [],
   "source": [
    "# Plot blochshere\n",
    "out6 = execute(qc6,backend).result().get_statevector()\n",
    "plot_bloch_multivector(out6)"
   ]
  },
  {
   "cell_type": "code",
   "execution_count": null,
   "metadata": {},
   "outputs": [],
   "source": [
    "import qiskit\n",
    "qiskit.__qiskit_version__"
   ]
  }
 ],
 "metadata": {
  "kernelspec": {
   "display_name": "venv",
   "language": "python",
   "name": "python3"
  },
  "language_info": {
   "codemirror_mode": {
    "name": "ipython",
    "version": 3
   },
   "file_extension": ".py",
   "mimetype": "text/x-python",
   "name": "python",
   "nbconvert_exporter": "python",
   "pygments_lexer": "ipython3",
   "version": "3.11.5"
  },
  "orig_nbformat": 4
 },
 "nbformat": 4,
 "nbformat_minor": 2
}
