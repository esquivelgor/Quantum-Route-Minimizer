{
 "cells": [
  {
   "cell_type": "code",
   "execution_count": null,
   "metadata": {},
   "outputs": [],
   "source": [
    "import numpy as np"
   ]
  },
  {
   "cell_type": "code",
   "execution_count": 3,
   "metadata": {},
   "outputs": [],
   "source": [
    "# Inicialization of variables\n",
    "\n",
    "n = 5  # number of nodes + depot (n+1)\n",
    "K = 2  # number of vehicles"
   ]
  },
  {
   "cell_type": "code",
   "execution_count": 4,
   "metadata": {},
   "outputs": [],
   "source": [
    "class Initializer:\n",
    "    def __init__(self, n):\n",
    "        self.n = n\n",
    "\n",
    "    def generate_instance(self):\n",
    "\n",
    "        n = self.n\n",
    "\n",
    "        # np.random.seed(33)\n",
    "        np.random.seed(1543)\n",
    "\n",
    "        xc = (np.random.rand(n) - 0.5) * 10\n",
    "        yc = (np.random.rand(n) - 0.5) * 10\n",
    "\n",
    "        instance = np.zeros([n, n])\n",
    "        for ii in range(0, n):\n",
    "            for jj in range(ii + 1, n):\n",
    "                instance[ii, jj] = (xc[ii] - xc[jj]) ** 2 + (yc[ii] - yc[jj]) ** 2\n",
    "                instance[jj, ii] = instance[ii, jj]\n",
    "\n",
    "        return xc, yc, instance"
   ]
  },
  {
   "cell_type": "code",
   "execution_count": 7,
   "metadata": {},
   "outputs": [
    {
     "ename": "NameError",
     "evalue": "name 'np' is not defined",
     "output_type": "error",
     "traceback": [
      "\u001b[0;31m---------------------------------------------------------------------------\u001b[0m",
      "\u001b[0;31mNameError\u001b[0m                                 Traceback (most recent call last)",
      "Cell \u001b[0;32mIn[7], line 3\u001b[0m\n\u001b[1;32m      1\u001b[0m \u001b[39m# Initialize the problem by randomly generating the instance\u001b[39;00m\n\u001b[1;32m      2\u001b[0m initializer \u001b[39m=\u001b[39m Initializer(n)\n\u001b[0;32m----> 3\u001b[0m xc, yc, instance \u001b[39m=\u001b[39m initializer\u001b[39m.\u001b[39;49mgenerate_instance()\n\u001b[1;32m      5\u001b[0m \u001b[39mprint\u001b[39m(xc, yc)\n",
      "Cell \u001b[0;32mIn[4], line 10\u001b[0m, in \u001b[0;36mInitializer.generate_instance\u001b[0;34m(self)\u001b[0m\n\u001b[1;32m      7\u001b[0m n \u001b[39m=\u001b[39m \u001b[39mself\u001b[39m\u001b[39m.\u001b[39mn\n\u001b[1;32m      9\u001b[0m \u001b[39m# np.random.seed(33)\u001b[39;00m\n\u001b[0;32m---> 10\u001b[0m np\u001b[39m.\u001b[39mrandom\u001b[39m.\u001b[39mseed(\u001b[39m1543\u001b[39m)\n\u001b[1;32m     12\u001b[0m xc \u001b[39m=\u001b[39m (np\u001b[39m.\u001b[39mrandom\u001b[39m.\u001b[39mrand(n) \u001b[39m-\u001b[39m \u001b[39m0.5\u001b[39m) \u001b[39m*\u001b[39m \u001b[39m10\u001b[39m\n\u001b[1;32m     13\u001b[0m yc \u001b[39m=\u001b[39m (np\u001b[39m.\u001b[39mrandom\u001b[39m.\u001b[39mrand(n) \u001b[39m-\u001b[39m \u001b[39m0.5\u001b[39m) \u001b[39m*\u001b[39m \u001b[39m10\u001b[39m\n",
      "\u001b[0;31mNameError\u001b[0m: name 'np' is not defined"
     ]
    }
   ],
   "source": [
    "# Initialize the problem by randomly generating the instance\n",
    "initializer = Initializer(n)\n",
    "xc, yc, instance = initializer.generate_instance()\n",
    "\n",
    "print(xc, yc)"
   ]
  },
  {
   "cell_type": "code",
   "execution_count": 5,
   "metadata": {},
   "outputs": [],
   "source": [
    "from qiskit_optimization import QuadraticProgram\n",
    "from qiskit_optimization.algorithms import MinimumEigenOptimizer\n",
    "\n",
    "\n",
    "class QuantumOptimizer:\n",
    "    def __init__(self, instance, n, K):\n",
    "\n",
    "        self.instance = instance\n",
    "        self.n = n\n",
    "        self.K = K\n",
    "\n",
    "    def binary_representation(self, x_sol=0):\n",
    "\n",
    "        instance = self.instance\n",
    "        n = self.n\n",
    "        K = self.K\n",
    "\n",
    "        A = np.max(instance) * 100  # A parameter of cost function\n",
    "\n",
    "        # Determine the weights w\n",
    "        instance_vec = instance.reshape(n**2)\n",
    "        w_list = [instance_vec[x] for x in range(n**2) if instance_vec[x] > 0]\n",
    "        w = np.zeros(n * (n - 1))\n",
    "        for ii in range(len(w_list)):\n",
    "            w[ii] = w_list[ii]\n",
    "\n",
    "        # Some variables I will use\n",
    "        Id_n = np.eye(n)\n",
    "        Im_n_1 = np.ones([n - 1, n - 1])\n",
    "        Iv_n_1 = np.ones(n)\n",
    "        Iv_n_1[0] = 0\n",
    "        Iv_n = np.ones(n - 1)\n",
    "        neg_Iv_n_1 = np.ones(n) - Iv_n_1\n",
    "\n",
    "        v = np.zeros([n, n * (n - 1)])\n",
    "        for ii in range(n):\n",
    "            count = ii - 1\n",
    "            for jj in range(n * (n - 1)):\n",
    "\n",
    "                if jj // (n - 1) == ii:\n",
    "                    count = ii\n",
    "\n",
    "                if jj // (n - 1) != ii and jj % (n - 1) == count:\n",
    "                    v[ii][jj] = 1.0\n",
    "\n",
    "        vn = np.sum(v[1:], axis=0)\n",
    "\n",
    "        # Q defines the interactions between variables\n",
    "        Q = A * (np.kron(Id_n, Im_n_1) + np.dot(v.T, v))\n",
    "\n",
    "        # g defines the contribution from the individual variables\n",
    "        g = (\n",
    "            w\n",
    "            - 2 * A * (np.kron(Iv_n_1, Iv_n) + vn.T)\n",
    "            - 2 * A * K * (np.kron(neg_Iv_n_1, Iv_n) + v[0].T)\n",
    "        )\n",
    "\n",
    "        # c is the constant offset\n",
    "        c = 2 * A * (n - 1) + 2 * A * (K**2)\n",
    "\n",
    "        try:\n",
    "            max(x_sol)\n",
    "            # Evaluates the cost distance from a binary representation of a path\n",
    "            fun = (\n",
    "                lambda x: np.dot(np.around(x), np.dot(Q, np.around(x)))\n",
    "                + np.dot(g, np.around(x))\n",
    "                + c\n",
    "            )\n",
    "            cost = fun(x_sol)\n",
    "        except:\n",
    "            cost = 0\n",
    "\n",
    "        return Q, g, c, cost\n",
    "\n",
    "    def construct_problem(self, Q, g, c) -> QuadraticProgram:\n",
    "        qp = QuadraticProgram()\n",
    "        for i in range(n * (n - 1)):\n",
    "            qp.binary_var(str(i))\n",
    "        qp.objective.quadratic = Q\n",
    "        qp.objective.linear = g\n",
    "        qp.objective.constant = c\n",
    "        return qp\n",
    "\n",
    "    def solve_problem(self, qp):\n",
    "        algorithm_globals.random_seed = 10598\n",
    "        vqe = SamplingVQE(sampler=Sampler(), optimizer=SPSA(), ansatz=RealAmplitudes())\n",
    "        optimizer = MinimumEigenOptimizer(min_eigen_solver=vqe)\n",
    "        result = optimizer.solve(qp)\n",
    "        # compute cost of the obtained result\n",
    "        _, _, _, level = self.binary_representation(x_sol=result.x)\n",
    "        return result.x, level"
   ]
  },
  {
   "cell_type": "code",
   "execution_count": 6,
   "metadata": {},
   "outputs": [
    {
     "ename": "NameError",
     "evalue": "name 'instance' is not defined",
     "output_type": "error",
     "traceback": [
      "\u001b[0;31m---------------------------------------------------------------------------\u001b[0m",
      "\u001b[0;31mNameError\u001b[0m                                 Traceback (most recent call last)",
      "Cell \u001b[0;32mIn[6], line 2\u001b[0m\n\u001b[1;32m      1\u001b[0m \u001b[39m# Instantiate the quantum optimizer class with parameters:\u001b[39;00m\n\u001b[0;32m----> 2\u001b[0m quantum_optimizer \u001b[39m=\u001b[39m QuantumOptimizer(instance, n, K)\n",
      "\u001b[0;31mNameError\u001b[0m: name 'instance' is not defined"
     ]
    }
   ],
   "source": [
    "# Instantiate the quantum optimizer class with parameters:\n",
    "quantum_optimizer = QuantumOptimizer(instance, n, K)"
   ]
  }
 ],
 "metadata": {
  "kernelspec": {
   "display_name": "venv",
   "language": "python",
   "name": "python3"
  },
  "language_info": {
   "codemirror_mode": {
    "name": "ipython",
    "version": 3
   },
   "file_extension": ".py",
   "mimetype": "text/x-python",
   "name": "python",
   "nbconvert_exporter": "python",
   "pygments_lexer": "ipython3",
   "version": "3.11.5"
  },
  "orig_nbformat": 4
 },
 "nbformat": 4,
 "nbformat_minor": 2
}
