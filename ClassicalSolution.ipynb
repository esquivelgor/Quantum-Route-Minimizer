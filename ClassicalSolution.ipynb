{
 "cells": [
  {
   "cell_type": "code",
   "execution_count": 52,
   "metadata": {},
   "outputs": [],
   "source": [
    "# To clean enviroment variables\n",
    "# %reset\n",
    "\n",
    "# To clean an specific environment variable\n",
    "%reset -f variable_name\n"
   ]
  },
  {
   "cell_type": "code",
   "execution_count": 53,
   "metadata": {},
   "outputs": [],
   "source": [
    "import numpy as np\n",
    "import pandas as pd\n",
    "import matplotlib.pyplot as plt\n",
    "\n",
    "try:\n",
    "    import cplex\n",
    "    from cplex.exceptions import CplexError\n",
    "except:\n",
    "    print(\"Warning: Cplex not found.\")\n",
    "import math\n",
    "\n",
    "from qiskit.utils import algorithm_globals\n",
    "from qiskit_algorithms import SamplingVQE\n",
    "from qiskit_algorithms.optimizers import SPSA\n",
    "from qiskit.circuit.library import RealAmplitudes\n",
    "from qiskit.primitives import Sampler"
   ]
  },
  {
   "attachments": {},
   "cell_type": "markdown",
   "metadata": {},
   "source": [
    "Clean data"
   ]
  },
  {
   "cell_type": "code",
   "execution_count": 54,
   "metadata": {},
   "outputs": [
    {
     "name": "stdout",
     "output_type": "stream",
     "text": [
      "           city      lat       lng\n",
      "0      New York  40.6943  -73.9249\n",
      "1   Los Angeles  34.1139 -118.4068\n",
      "2       Chicago  41.8373  -87.6862\n",
      "3         Miami  25.7839  -80.2102\n",
      "4        Dallas  32.7936  -96.7662\n",
      "5  Philadelphia  40.0077  -75.1339\n",
      "6       Houston  29.7863  -95.3889\n",
      "7       Atlanta  33.7627  -84.4224\n",
      "8    Washington  38.9047  -77.0163\n",
      "9        Boston  42.3188  -71.0846\n"
     ]
    }
   ],
   "source": [
    "df = pd.read_csv(\"uscities.csv\")\n",
    "columnsNeeded = [\"city\", \"lat\", \"lng\"]\n",
    "\n",
    "coordenatesDf = df[columnsNeeded].iloc[:10]\n",
    "\n",
    "# print(coordenatesDf[\"lat\"][0])\n",
    "print(coordenatesDf)"
   ]
  },
  {
   "cell_type": "code",
   "execution_count": 55,
   "metadata": {},
   "outputs": [],
   "source": [
    "# Initialize instance values by calculate the squared Euclidean distances between a set of coordinates\n",
    "#  represented in the dataframe.\n",
    "\n",
    "def generate_instance(coordenatesDf):\n",
    "    n = coordenatesDf.shape[0]\n",
    "    \n",
    "    xc = coordenatesDf[\"lat\"]\n",
    "    yc = coordenatesDf[\"lng\"]\n",
    "    instance = np.zeros([n, n])\n",
    "    for ii in range(0, n):\n",
    "        for jj in range(ii + 1, n):\n",
    "            instance[ii, jj] = (xc[ii] - xc[jj]) ** 2 + (yc[ii] - yc[jj]) ** 2\n",
    "            instance[jj, ii] = instance[ii, jj]\n",
    "    return xc, yc, instance"
   ]
  },
  {
   "cell_type": "code",
   "execution_count": 59,
   "metadata": {},
   "outputs": [
    {
     "name": "stdout",
     "output_type": "stream",
     "text": [
      "0    40.6943\n",
      "1    34.1139\n",
      "2    41.8373\n",
      "3    25.7839\n",
      "4    32.7936\n",
      "5    40.0077\n",
      "6    29.7863\n",
      "7    33.7627\n",
      "8    38.9047\n",
      "9    42.3188\n",
      "Name: lat, dtype: float64 0    -73.9249\n",
      "1   -118.4068\n",
      "2    -87.6862\n",
      "3    -80.2102\n",
      "4    -96.7662\n",
      "5    -75.1339\n",
      "6    -95.3889\n",
      "7    -84.4224\n",
      "8    -77.0163\n",
      "9    -71.0846\n",
      "Name: lng, dtype: float64\n"
     ]
    }
   ],
   "source": [
    "# Initialize the problem by randomly generating the instance\n",
    "lat, lng, instance = generate_instance(coordenatesDf)\n",
    "\n",
    "print(lat, lng)"
   ]
  },
  {
   "cell_type": "code",
   "execution_count": 60,
   "metadata": {},
   "outputs": [],
   "source": [
    "# Inicialization of variables\n",
    "\n",
    "n = coordenatesDf.shape[0]  # number of nodes + depot (n+1)\n",
    "K = 2  # number of vehicles"
   ]
  },
  {
   "attachments": {},
   "cell_type": "markdown",
   "metadata": {},
   "source": [
    "### Get the data"
   ]
  },
  {
   "cell_type": "code",
   "execution_count": 25,
   "metadata": {},
   "outputs": [],
   "source": [
    "class Initializer:\n",
    "    def __init__(self, n):\n",
    "        self.n = n\n",
    "\n",
    "    def generate_instance(self):\n",
    "\n",
    "        n = self.n\n",
    "\n",
    "        # np.random.seed(33)\n",
    "        np.random.seed(1543)\n",
    "\n",
    "        xc = (np.random.rand(n) - 0.5) * 10\n",
    "        yc = (np.random.rand(n) - 0.5) * 10\n",
    "\n",
    "        instance = np.zeros([n, n])\n",
    "        for ii in range(0, n):\n",
    "            for jj in range(ii + 1, n):\n",
    "                instance[ii, jj] = (xc[ii] - xc[jj]) ** 2 + (yc[ii] - yc[jj]) ** 2\n",
    "                instance[jj, ii] = instance[ii, jj]\n",
    "\n",
    "        return xc, yc, instance"
   ]
  },
  {
   "cell_type": "code",
   "execution_count": 26,
   "metadata": {},
   "outputs": [
    {
     "name": "stdout",
     "output_type": "stream",
     "text": [
      "[ 0.51003914  2.55963937 -0.64283509 -4.57068577  2.98724481 -2.72584275\n",
      "  1.05534574  0.79231007 -0.24892217  0.60258683  1.88520561  0.40382905\n",
      "  2.73515347  1.46428022  4.62226277  4.48318457 -4.75386784  4.25895528\n",
      " -0.29989876  2.26854182] [ 1.84190714  0.4868929   4.77937666  2.95133445  3.00950627 -1.11196111\n",
      "  2.77599044  3.56517195 -3.87802193  4.24843266  1.11234088  3.23207087\n",
      "  0.75392204 -2.26350732  4.90891727 -1.98380136 -1.55806992  3.24629477\n",
      "  4.3042409   4.4419409 ]\n"
     ]
    }
   ],
   "source": [
    "# Initialize the problem by randomly generating the instance\n",
    "initializer = Initializer(n)\n",
    "xc, yc, instance = initializer.generate_instance()\n",
    "\n",
    "print(xc, yc)"
   ]
  },
  {
   "cell_type": "code",
   "execution_count": 27,
   "metadata": {},
   "outputs": [
    {
     "name": "stdout",
     "output_type": "stream",
     "text": [
      "[[0.00000000e+00 6.03692470e+00 9.95784618e+00 2.70445946e+01\n",
      "  7.49983565e+00 1.91962692e+01 1.16987090e+00 3.04931848e+00\n",
      "  3.32936109e+01 5.79993017e+00 2.42334976e+00 1.94383578e+00\n",
      "  6.13484538e+00 1.77650040e+01 2.63169344e+01 3.04219302e+01\n",
      "  3.92685607e+01 1.60266769e+01 6.71908695e+00 9.85250723e+00]\n",
      " [6.03692470e+00 0.00000000e+00 2.86812595e+01 5.69150088e+01\n",
      "  6.54642459e+00 3.04926554e+01 7.50286686e+00 1.25992547e+01\n",
      "  2.69404995e+01 1.79792360e+01 8.46046066e-01 1.21835202e+01\n",
      "  1.02109759e-01 8.76451309e+00 2.38087148e+01 9.80435629e+00\n",
      "  5.76692606e+01 1.05019732e+01 2.27491040e+01 1.57271424e+01]\n",
      " [9.95784618e+00 2.86812595e+01 0.00000000e+00 1.87697493e+01\n",
      "  1.63099213e+01 3.90467817e+01 6.89737448e+00 3.53393471e+00\n",
      "  7.51057178e+01 1.83297728e+00 1.98381412e+01 3.48966104e+00\n",
      "  2.76150916e+01 5.40421498e+01 2.77380363e+01 7.20166545e+01\n",
      "  5.70638195e+01 2.63778890e+01 3.43359319e-01 8.58997840e+00]\n",
      " [2.70445946e+01 5.69150088e+01 1.87697493e+01 0.00000000e+00\n",
      "  5.71256986e+01 1.99138166e+01 3.16829761e+01 2.91385209e+01\n",
      "  6.53177493e+01 2.84452132e+01 4.50604310e+01 2.48246107e+01\n",
      "  5.82039084e+01 6.36153894e+01 8.83424335e+01 1.06328134e+02\n",
      "  2.03682835e+01 7.80495628e+01 2.00699776e+01 4.89969417e+01]\n",
      " [7.49983565e+00 6.54642459e+00 1.63099213e+01 5.71256986e+01\n",
      "  0.00000000e+00 4.96258627e+01 3.78676365e+00 5.12650286e+00\n",
      "  5.79108214e+01 7.22153230e+00 4.81372689e+00 6.72357198e+00\n",
      "  5.15121025e+00 3.01240935e+01 6.28104592e+00 2.71709569e+01\n",
      "  8.07875772e+01 1.67331633e+00 1.24816506e+01 2.56840296e+00]\n",
      " [1.91962692e+01 3.04926554e+01 3.90467817e+01 1.99138166e+01\n",
      "  4.96258627e+01 0.00000000e+00 2.94135536e+01 3.42529729e+01\n",
      "  1.37862280e+01 3.98122648e+01 2.62092863e+01 2.86654594e+01\n",
      "  3.33039996e+01 1.88831892e+01 9.02456313e+01 5.27301803e+01\n",
      "  4.31189883e+00 6.77817978e+01 3.52204485e+01 5.57897047e+01]\n",
      " [1.16987090e+00 7.50286686e+00 6.89737448e+00 3.16829761e+01\n",
      "  3.78676365e+00 2.94135536e+01 0.00000000e+00 6.91995219e-01\n",
      "  4.59769954e+01 2.37307673e+00 3.45639727e+00 6.32483355e-01\n",
      "  6.91051464e+00 2.55637651e+01 1.72722740e+01 3.44056971e+01\n",
      "  5.25310416e+01 1.04843003e+01 4.17223712e+00 4.24723566e+00]\n",
      " [3.04931848e+00 1.25992547e+01 3.53393471e+00 2.91385209e+01\n",
      "  5.12650286e+00 3.42529729e+01 6.91995219e-01 0.00000000e+00\n",
      "  5.64852997e+01 5.02840112e-01 7.21080092e+00 2.61873833e-01\n",
      "  1.16777665e+01 3.44250460e+01 1.64741892e+01 4.44136594e+01\n",
      "  5.70076967e+01 1.21193117e+01 1.73914304e+00 2.94798397e+00]\n",
      " [3.32936109e+01 2.69404995e+01 7.51057178e+01 6.53177493e+01\n",
      "  5.79108214e+01 1.37862280e+01 4.59769954e+01 5.64852997e+01\n",
      "  0.00000000e+00 6.67643319e+01 2.94582224e+01 5.09795038e+01\n",
      "  3.03596124e+01 5.54171985e+00 1.00938743e+02 2.59809057e+01\n",
      "  2.56767127e+01 7.10768476e+01 6.69520237e+01 7.55594064e+01]\n",
      " [5.79993017e+00 1.79792360e+01 1.83297728e+00 2.84452132e+01\n",
      "  7.22153230e+00 3.98122648e+01 2.37307673e+00 5.02840112e-01\n",
      "  6.67643319e+01 0.00000000e+00 1.14801826e+01 1.07249595e+00\n",
      "  1.67594450e+01 4.31478779e+01 1.65940346e+01 5.38997798e+01\n",
      "  6.24070789e+01 1.43733106e+01 8.17594792e-01 2.81285147e+00]\n",
      " [2.42334976e+00 8.46046066e-01 1.98381412e+01 4.50604310e+01\n",
      "  4.81372689e+00 2.62092863e+01 3.45639727e+00 7.21080092e+00\n",
      "  2.94582224e+01 1.14801826e+01 0.00000000e+00 6.68773175e+00\n",
      "  8.50875429e-01 1.15735293e+01 2.19054742e+01 1.63355914e+01\n",
      "  5.12083901e+01 1.01884467e+01 1.49629069e+01 1.12331829e+01]\n",
      " [1.94383578e+00 1.21835202e+01 3.48966104e+00 2.48246107e+01\n",
      "  6.72357198e+00 2.86654594e+01 6.32483355e-01 2.61873833e-01\n",
      "  5.09795038e+01 1.07249595e+00 6.68773175e+00 0.00000000e+00\n",
      "  1.15762952e+01 3.13259364e+01 2.06069970e+01 4.38464646e+01\n",
      "  4.95472860e+01 1.48622006e+01 1.64478140e+00 4.94093920e+00]\n",
      " [6.13484538e+00 1.02109759e-01 2.76150916e+01 5.82039084e+01\n",
      "  5.15121025e+00 3.33039996e+01 6.91051464e+00 1.16777665e+01\n",
      "  3.03596124e+01 1.67594450e+01 8.50875429e-01 1.15762952e+01\n",
      "  0.00000000e+00 1.07199988e+01 2.08251669e+01 1.05507421e+01\n",
      "  6.14307470e+01 8.53389378e+00 2.18163061e+01 1.38192095e+01]\n",
      " [1.77650040e+01 8.76451309e+00 5.40421498e+01 6.36153894e+01\n",
      "  3.01240935e+01 1.88831892e+01 2.55637651e+01 3.44250460e+01\n",
      "  5.54171985e+00 4.31478779e+01 1.15735293e+01 3.13259364e+01\n",
      "  1.07199988e+01 0.00000000e+00 6.14165284e+01 9.19201887e+00\n",
      "  3.91630072e+01 3.81681278e+01 4.62476442e+01 4.56098726e+01]\n",
      " [2.63169344e+01 2.38087148e+01 2.77380363e+01 8.83424335e+01\n",
      "  6.28104592e+00 9.02456313e+01 1.72722740e+01 1.64741892e+01\n",
      "  1.00938743e+02 1.65940346e+01 2.19054742e+01 2.06069970e+01\n",
      "  2.08251669e+01 6.14165284e+01 0.00000000e+00 4.75289129e+01\n",
      "  1.29733749e+02 2.89630592e+00 2.45933077e+01 5.75806927e+00]\n",
      " [3.04219302e+01 9.80435629e+00 7.20166545e+01 1.06328134e+02\n",
      "  2.71709569e+01 5.27301803e+01 3.44056971e+01 4.44136594e+01\n",
      "  2.59809057e+01 5.38997798e+01 1.63355914e+01 4.38464646e+01\n",
      "  1.05507421e+01 9.19201887e+00 4.75289129e+01 0.00000000e+00\n",
      "  8.55043844e+01 2.74041843e+01 6.24173616e+01 4.61948061e+01]\n",
      " [3.92685607e+01 5.76692606e+01 5.70638195e+01 2.03682835e+01\n",
      "  8.07875772e+01 4.31189883e+00 5.25310416e+01 5.70076967e+01\n",
      "  2.56767127e+01 6.24070789e+01 5.12083901e+01 4.95472860e+01\n",
      "  6.14307470e+01 3.91630072e+01 1.29733749e+02 8.55043844e+01\n",
      "  0.00000000e+00 1.04312901e+02 5.42045288e+01 8.53143673e+01]\n",
      " [1.60266769e+01 1.05019732e+01 2.63778890e+01 7.80495628e+01\n",
      "  1.67331633e+00 6.77817978e+01 1.04843003e+01 1.21193117e+01\n",
      "  7.10768476e+01 1.43733106e+01 1.01884467e+01 1.48622006e+01\n",
      "  8.53389378e+00 3.81681278e+01 2.89630592e+00 2.74041843e+01\n",
      "  1.04312901e+02 0.00000000e+00 2.19024002e+01 5.39131543e+00]\n",
      " [6.71908695e+00 2.27491040e+01 3.43359319e-01 2.00699776e+01\n",
      "  1.24816506e+01 3.52204485e+01 4.17223712e+00 1.73914304e+00\n",
      "  6.69520237e+01 8.17594792e-01 1.49629069e+01 1.64478140e+00\n",
      "  2.18163061e+01 4.62476442e+01 2.45933077e+01 6.24173616e+01\n",
      "  5.42045288e+01 2.19024002e+01 0.00000000e+00 6.61584829e+00]\n",
      " [9.85250723e+00 1.57271424e+01 8.58997840e+00 4.89969417e+01\n",
      "  2.56840296e+00 5.57897047e+01 4.24723566e+00 2.94798397e+00\n",
      "  7.55594064e+01 2.81285147e+00 1.12331829e+01 4.94093920e+00\n",
      "  1.38192095e+01 4.56098726e+01 5.75806927e+00 4.61948061e+01\n",
      "  8.53143673e+01 5.39131543e+00 6.61584829e+00 0.00000000e+00]]\n"
     ]
    }
   ],
   "source": [
    "print(instance)"
   ]
  },
  {
   "cell_type": "code",
   "execution_count": 28,
   "metadata": {},
   "outputs": [],
   "source": [
    "# -------------------- Classical solution using IBM ILOG CPLEX --------------------\n",
    "\n",
    "class ClassicalOptimizer:\n",
    "    def __init__(self, instance, n, K):\n",
    "\n",
    "        self.instance = instance\n",
    "        self.n = n  # number of nodes\n",
    "        self.K = K  # number of vehicles\n",
    "\n",
    "    def compute_allowed_combinations(self):\n",
    "        f = math.factorial\n",
    "        return f(self.n) / f(self.K) / f(self.n - self.K)\n",
    "\n",
    "    def cplex_solution(self):\n",
    "\n",
    "        # refactoring\n",
    "        instance = self.instance\n",
    "        n = self.n\n",
    "        K = self.K\n",
    "\n",
    "        my_obj = list(instance.reshape(1, n**2)[0]) + [0.0 for x in range(0, n - 1)]\n",
    "        my_ub = [1 for x in range(0, n**2 + n - 1)]\n",
    "        my_lb = [0 for x in range(0, n**2)] + [0.1 for x in range(0, n - 1)]\n",
    "        my_ctype = \"\".join([\"I\" for x in range(0, n**2)]) + \"\".join(\n",
    "            [\"C\" for x in range(0, n - 1)]\n",
    "        )\n",
    "\n",
    "        my_rhs = (\n",
    "            2 * ([K] + [1 for x in range(0, n - 1)])\n",
    "            + [1 - 0.1 for x in range(0, (n - 1) ** 2 - (n - 1))]\n",
    "            + [0 for x in range(0, n)]\n",
    "        )\n",
    "        my_sense = (\n",
    "            \"\".join([\"E\" for x in range(0, 2 * n)])\n",
    "            + \"\".join([\"L\" for x in range(0, (n - 1) ** 2 - (n - 1))])\n",
    "            + \"\".join([\"E\" for x in range(0, n)])\n",
    "        )\n",
    "\n",
    "        try:\n",
    "            my_prob = cplex.Cplex()\n",
    "            self.populatebyrow(my_prob, my_obj, my_ub, my_lb, my_ctype, my_sense, my_rhs)\n",
    "\n",
    "            my_prob.solve()\n",
    "\n",
    "        except CplexError as exc:\n",
    "            print(exc)\n",
    "            return\n",
    "\n",
    "        x = my_prob.solution.get_values()\n",
    "        x = np.array(x)\n",
    "        cost = my_prob.solution.get_objective_value()\n",
    "\n",
    "        return x, cost\n",
    "\n",
    "    def populatebyrow(self, prob, my_obj, my_ub, my_lb, my_ctype, my_sense, my_rhs):\n",
    "\n",
    "        n = self.n\n",
    "\n",
    "        prob.objective.set_sense(prob.objective.sense.minimize)\n",
    "        prob.variables.add(obj=my_obj, lb=my_lb, ub=my_ub, types=my_ctype)\n",
    "\n",
    "        prob.set_log_stream(None)\n",
    "        prob.set_error_stream(None)\n",
    "        prob.set_warning_stream(None)\n",
    "        prob.set_results_stream(None)\n",
    "\n",
    "        rows = []\n",
    "        for ii in range(0, n):\n",
    "            col = [x for x in range(0 + n * ii, n + n * ii)]\n",
    "            coef = [1 for x in range(0, n)]\n",
    "            rows.append([col, coef])\n",
    "\n",
    "        for ii in range(0, n):\n",
    "            col = [x for x in range(0 + ii, n**2, n)]\n",
    "            coef = [1 for x in range(0, n)]\n",
    "\n",
    "            rows.append([col, coef])\n",
    "\n",
    "        # Sub-tour elimination constraints:\n",
    "        for ii in range(0, n):\n",
    "            for jj in range(0, n):\n",
    "                if (ii != jj) and (ii * jj > 0):\n",
    "\n",
    "                    col = [ii + (jj * n), n**2 + ii - 1, n**2 + jj - 1]\n",
    "                    coef = [1, 1, -1]\n",
    "\n",
    "                    rows.append([col, coef])\n",
    "\n",
    "        for ii in range(0, n):\n",
    "            col = [(ii) * (n + 1)]\n",
    "            coef = [1]\n",
    "            rows.append([col, coef])\n",
    "\n",
    "        prob.linear_constraints.add(lin_expr=rows, senses=my_sense, rhs=my_rhs)\n"
   ]
  },
  {
   "cell_type": "code",
   "execution_count": 29,
   "metadata": {},
   "outputs": [],
   "source": [
    "# Instantiate the classical optimizer class\n",
    "classical_optimizer = ClassicalOptimizer(instance, n, K)"
   ]
  },
  {
   "cell_type": "code",
   "execution_count": 30,
   "metadata": {},
   "outputs": [
    {
     "name": "stdout",
     "output_type": "stream",
     "text": [
      "Number of feasible solutions = 190.0\n"
     ]
    }
   ],
   "source": [
    "# Print number of feasible solutions\n",
    "print(\"Number of feasible solutions = \" + str(classical_optimizer.compute_allowed_combinations()))\n"
   ]
  },
  {
   "cell_type": "code",
   "execution_count": 31,
   "metadata": {},
   "outputs": [
    {
     "name": "stdout",
     "output_type": "stream",
     "text": [
      "[1.0, -0.0, -0.0, -0.0, -0.0, 0.0, -0.0, -0.0, -0.0, 1.0, -0.0, 0.0, -0.0, -0.0, -0.0, -0.0, -0.0, -0.0, -0.0, -0.0, -0.0, -0.0, -0.0, -0.0, -0.0, -0.0, -0.0, -0.0, -0.0, -0.0, -0.0, -0.0, -0.0, 1.0, -0.0, -0.0, -0.0, -0.0, -0.0, -0.0, 0.0, -0.0, -0.0, -0.0, 0.0, -0.0, -0.0, -0.0, 0.0, -0.0, -0.0, -0.0, -0.0, -0.0, -0.0, 1.0, -0.0, 0.0, -0.0, 1.0, -0.0, 0.0, -0.0, -0.0, -0.0, -0.0, -0.0, -0.0, -0.0, -0.0, -0.0, -0.0, 0.0, -0.0, 0.0, -0.0, -0.0, -0.0, -0.0, -0.0, -0.0, -0.0, -0.0, -0.0, -0.0, -0.0, -0.0, 0.0, -0.0, -0.0, -0.0, -0.0, 1.0, -0.0, 0.0, -0.0, -0.0, -0.0, -0.0, -0.0, -0.0, -0.0, 0.0, -0.0, -0.0, -0.0, -0.0, -0.0, -0.0, -0.0, 1.0, -0.0, -0.0, -0.0, 1.0, -0.0, -0.0, -0.0, 0.0, -0.0, -0.0, -0.0, -0.0, -0.0, -0.0, 0.0, -0.0, -0.0, -0.0, -0.0, -0.0, -0.0, -0.0, 0.0, -0.0, -0.0, -0.0, 0.0, -0.0, 1.0, -0.0, -0.0, -0.0, 0.0, -0.0, -0.0, -0.0, -0.0, -0.0, -0.0, -0.0, -0.0, -0.0, -0.0, -0.0, -0.0, -0.0, 1.0, -0.0, -0.0, -0.0, -0.0, -0.0, -0.0, 0.0, -0.0, 0.0, -0.0, -0.0, -0.0, -0.0, -0.0, -0.0, -0.0, -0.0, -0.0, -0.0, 0.0, 1.0, -0.0, -0.0, -0.0, -0.0, -0.0, -0.0, -0.0, -0.0, -0.0, 0.0, 0.0, -0.0, -0.0, -0.0, -0.0, -0.0, -0.0, -0.0, -0.0, -0.0, -0.0, -0.0, 1.0, -0.0, -0.0, 0.0, -0.0, -0.0, -0.0, -0.0, 1.0, -0.0, -0.0, -0.0, -0.0, -0.0, 0.0, -0.0, -0.0, -0.0, -0.0, -0.0, -0.0, -0.0, -0.0, -0.0, -0.0, -0.0, -0.0, -0.0, 0.0, -0.0, -0.0, 1.0, -0.0, -0.0, -0.0, -0.0, -0.0, 0.0, -0.0, -0.0, -0.0, 0.0, -0.0, -0.0, -0.0, -0.0, -0.0, -0.0, -0.0, -0.0, -0.0, -0.0, -0.0, -0.0, 1.0, -0.0, -0.0, -0.0, -0.0, -0.0, 0.0, -0.0, -0.0, -0.0, -0.0, -0.0, -0.0, -0.0, -0.0, 0.0, -0.0, -0.0, -0.0, -0.0, -0.0, -0.0, -0.0, -0.0, -0.0, -0.0, -0.0, 0.0, -0.0, 1.0, -0.0, 0.0, -0.0, -0.0, -0.0, -0.0, -0.0, -0.0, 0.0, -0.0, -0.0, -0.0, 0.0, 1.0, -0.0, -0.0, -0.0, -0.0, -0.0, -0.0, -0.0, -0.0, 1.0, -0.0, 0.0, -0.0, -0.0, 0.0, -0.0, -0.0, -0.0, -0.0, -0.0, -0.0, -0.0, -0.0, -0.0, -0.0, -0.0, -0.0, -0.0, -0.0, 0.0, -0.0, -0.0, -0.0, -0.0, -0.0, -0.0, -0.0, -0.0, -0.0, 1.0, -0.0, -0.0, -0.0, -0.0, 0.0, -0.0, 0.0, 0.0, -0.0, -0.0, -0.0, 0.0, -0.0, 0.0, -0.0, 1.0, -0.0, -0.0, -0.0, -0.0, -0.0, -0.0, -0.0, -0.0, -0.0, -0.0, -0.0, 0.0, -0.0, -0.0, 0.0, -0.0, 1.0, -0.0, 0.0, -0.0, -0.0, 0.0, -0.0, -0.0, 0.0, -0.0]\n"
     ]
    }
   ],
   "source": [
    "# Solve the problem in a classical fashion via CPLEX\n",
    "x = None\n",
    "z = None\n",
    "try:\n",
    "    x, classical_cost = classical_optimizer.cplex_solution()\n",
    "    # Put the solution in the z variable\n",
    "    z = [x[ii] for ii in range(n**2) if ii // n != ii % n]\n",
    "    # Print the solution\n",
    "    print(z)\n",
    "except:\n",
    "    print(\"CPLEX may be missing.\")\n"
   ]
  },
  {
   "cell_type": "code",
   "execution_count": 32,
   "metadata": {},
   "outputs": [
    {
     "data": {
      "image/png": "[encoded data removed]",
      "text/plain": [
       "<Figure size 640x480 with 1 Axes>"
      ]
     },
     "metadata": {},
     "output_type": "display_data"
    }
   ],
   "source": [
    "# Visualize the solution\n",
    "def visualize_solution(xc, yc, x, C, n, K, title_str):\n",
    "    plt.figure()\n",
    "    plt.scatter(xc, yc, s=200)\n",
    "    for i in range(len(xc)):\n",
    "        plt.annotate(i, (xc[i] + 0.15, yc[i]), size=16, color=\"r\")\n",
    "    plt.plot(xc[0], yc[0], \"r*\", ms=20)\n",
    "\n",
    "    plt.grid()\n",
    "\n",
    "    for ii in range(0, n**2):\n",
    "\n",
    "        if x[ii] > 0:\n",
    "            ix = ii // n\n",
    "            iy = ii % n\n",
    "            plt.arrow(\n",
    "                xc[ix],\n",
    "                yc[ix],\n",
    "                xc[iy] - xc[ix],\n",
    "                yc[iy] - yc[ix],\n",
    "                length_includes_head=True,\n",
    "                head_width=0.25,\n",
    "            )\n",
    "\n",
    "    plt.title(title_str + \" cost = \" + str(int(C * 100) / 100.0))\n",
    "    plt.show()\n",
    "\n",
    "\n",
    "if x is not None:\n",
    "    visualize_solution(xc, yc, x, classical_cost, n, K, \"Classical\")"
   ]
  }
 ],
 "metadata": {
  "kernelspec": {
   "display_name": "base",
   "language": "python",
   "name": "python3"
  },
  "language_info": {
   "codemirror_mode": {
    "name": "ipython",
    "version": 3
   },
   "file_extension": ".py",
   "mimetype": "text/x-python",
   "name": "python",
   "nbconvert_exporter": "python",
   "pygments_lexer": "ipython3",
   "version": "3.11.5"
  },
  "orig_nbformat": 4
 },
 "nbformat": 4,
 "nbformat_minor": 2
}
